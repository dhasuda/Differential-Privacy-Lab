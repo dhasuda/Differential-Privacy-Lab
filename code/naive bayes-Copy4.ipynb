{
 "cells": [
  {
   "cell_type": "code",
   "execution_count": 1,
   "metadata": {},
   "outputs": [],
   "source": [
    "import sys\n",
    "sys.path.append('./privatizers')\n",
    "sys.path.append('./dataProviders')\n",
    "sys.path.append('./adapters')\n",
    "\n",
    "from sklearn.naive_bayes import GaussianNB\n",
    "from sklearn.datasets import fetch_covtype\n",
    "from adapters import generalAdapter as adapter\n",
    "from sklearn.metrics import accuracy_score\n",
    "from sklearn.model_selection import train_test_split\n",
    "\n",
    "dp = fetch_covtype()\n",
    "\n",
    "X = dp.data\n",
    "Y = dp.target"
   ]
  },
  {
   "cell_type": "code",
   "execution_count": 2,
   "metadata": {},
   "outputs": [],
   "source": [
    "# ## Size adjustment\n",
    "# desired_size = 100\n",
    "# min_test_size = 0.3\n",
    "# test_size = 0.3\n",
    "\n",
    "# total_size = len(X)\n",
    "\n",
    "# if (desired_size < min_test_size * total_size):\n",
    "#     test_size = 1-(desired_size / total_size);\n",
    "\n",
    "# X_train, X_test, y_train, y_test = train_test_split(X, Y, test_size = test_size)\n",
    "\n",
    "# ## Dataset\n",
    "# data_set = {\n",
    "#     'samples': X_train,\n",
    "#     'labels': y_train\n",
    "# }"
   ]
  },
  {
   "cell_type": "code",
   "execution_count": 3,
   "metadata": {},
   "outputs": [],
   "source": [
    "## Multiple Dataset sizes\n",
    "desired_sizes = [100, 1000, 10000, 100000]\n",
    "data_sets = []\n",
    "\n",
    "min_test_size = 0.2\n",
    "\n",
    "total_size = len(X)\n",
    "\n",
    "for desired_size in desired_sizes:\n",
    "    test_size = 0.2\n",
    "    if (desired_size < (1-min_test_size) * total_size):\n",
    "        test_size = 1-(desired_size / total_size);\n",
    "\n",
    "    X_train, X_test, y_train, y_test = train_test_split(X, Y, test_size = test_size)\n",
    "\n",
    "    ## Dataset\n",
    "    single_data_set = {\n",
    "        'samples': X_train,\n",
    "        'labels': y_train\n",
    "    }\n",
    "    data_sets.append(single_data_set)"
   ]
  },
  {
   "cell_type": "code",
   "execution_count": 4,
   "metadata": {},
   "outputs": [
    {
     "name": "stdout",
     "output_type": "stream",
     "text": [
      "0,5560847627818791\n",
      "0,34069765266219415\n",
      "0,45530993964820077\n",
      "0,4602910940036964\n"
     ]
    }
   ],
   "source": [
    "## SVM without privatization\n",
    "for data_set in data_sets:\n",
    "    gnb = GaussianNB()\n",
    "    gnb.fit(data_set['samples'], data_set['labels'])\n",
    "\n",
    "    y_pred = gnb.predict(X_test)\n",
    "    print(str(accuracy_score(y_test,y_pred)).replace('.', ','))\n",
    "\n",
    "    ## With cross validation\n",
    "    # scores = cross_val_score(gnb, X, Y, cv=5)\n",
    "    # for v in scores:\n",
    "    #     print(str(v).replace('.', ','))"
   ]
  },
  {
   "cell_type": "code",
   "execution_count": 5,
   "metadata": {},
   "outputs": [
    {
     "name": "stdout",
     "output_type": "stream",
     "text": [
      "0,17663555870631356\n",
      "0,12858488232126783\n",
      "0,36746823890414604\n",
      "0,38201254435950793\n",
      "0,5350499882539557\n",
      "0,04262878550059978\n",
      "0,30232862729281745\n",
      "0,41248157534203855\n",
      "0,6104408820551628\n",
      "0,4599750942282225\n",
      "0,4874442062896429\n",
      "0,4874442062896429\n",
      "0,552278212854954\n",
      "0,6076010419676807\n",
      "0,5913395272061254\n",
      "0,4874442062896429\n",
      "0,48924041553970476\n",
      "0,5016330119975967\n",
      "0,5792088779305341\n",
      "0,6138337217497241\n"
     ]
    }
   ],
   "source": [
    "## Privatization: Laplace privatizer\n",
    "from privatizers import laplacePrivatizer\n",
    "\n",
    "for data_set in data_sets:\n",
    "    ad = adapter.GeneralAdapter(7, 1)\n",
    "\n",
    "    dataInput = ad.fromRaw(data_set['samples'])\n",
    "    dataTarget = ad.fromRaw(data_set['labels'])\n",
    "\n",
    "    privatizer = laplacePrivatizer.LaplacePrivatizer(1.0)\n",
    "\n",
    "    inputSensitivity = privatizer.getSensitivityList(dataInput)\n",
    "    targetSensitivity = 7\n",
    "\n",
    "    epsilon = [1.0, 1.5, 2.0, 2.5, 3.0]\n",
    "\n",
    "    privatizer = laplacePrivatizer.LaplacePrivatizer(1.0)\n",
    "    privateData = privatizer.privatize(dataInput, sensitivityList = inputSensitivity)\n",
    "    for i in epsilon:\n",
    "        privatizer = laplacePrivatizer.LaplacePrivatizer(i)\n",
    "        privateData = privatizer.privatize(dataInput, sensitivityList = inputSensitivity)\n",
    "\n",
    "        privateTargetsFloat = privatizer.privatize(dataTarget, sensitivityList = targetSensitivity)\n",
    "        privateTargets = ad.toDiscreteValue(privateTargetsFloat)\n",
    "\n",
    "        gnb = GaussianNB()\n",
    "        gnb.fit(privateData, privateTargets)\n",
    "\n",
    "        y_pred = gnb.predict(X_test)\n",
    "        print(str(accuracy_score(y_test,y_pred)).replace('.', ','))"
   ]
  },
  {
   "cell_type": "code",
   "execution_count": null,
   "metadata": {},
   "outputs": [],
   "source": []
  }
 ],
 "metadata": {
  "kernelspec": {
   "display_name": "Python 3",
   "language": "python",
   "name": "python3"
  },
  "language_info": {
   "codemirror_mode": {
    "name": "ipython",
    "version": 3
   },
   "file_extension": ".py",
   "mimetype": "text/x-python",
   "name": "python",
   "nbconvert_exporter": "python",
   "pygments_lexer": "ipython3",
   "version": "3.7.4"
  }
 },
 "nbformat": 4,
 "nbformat_minor": 2
}
