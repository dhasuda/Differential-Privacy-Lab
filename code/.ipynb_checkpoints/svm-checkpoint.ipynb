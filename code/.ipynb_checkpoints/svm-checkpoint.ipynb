{
 "cells": [
  {
   "cell_type": "code",
   "execution_count": 1,
   "metadata": {},
   "outputs": [
    {
     "name": "stdout",
     "output_type": "stream",
     "text": [
      "ok\n"
     ]
    }
   ],
   "source": [
    "# Let's start with a simple example of the scikit lib use\n",
    "\n",
    "import sys\n",
    "sys.path.append('./privatizers')\n",
    "sys.path.append('./dataProviders')\n",
    "sys.path.append('./adapters')\n",
    "\n",
    "from sklearn import svm\n",
    "from sklearn.datasets import fetch_covtype\n",
    "from adapters import generalAdapter as adapter\n",
    "from sklearn.metrics import accuracy_score\n",
    "from sklearn.model_selection import train_test_split\n",
    "\n",
    "dp = fetch_covtype()\n",
    "\n",
    "X = dp.data\n",
    "Y = dp.target\n",
    "\n",
    "X_train, X_test, y_train, y_test = train_test_split( X, Y, test_size = 0.3, random_state = 100)\n",
    "print(\"ok\")"
   ]
  },
  {
   "cell_type": "code",
   "execution_count": 2,
   "metadata": {},
   "outputs": [
    {
     "name": "stdout",
     "output_type": "stream",
     "text": [
      "ok\n"
     ]
    }
   ],
   "source": [
    "## Dataset\n",
    "data_set = {\n",
    "    'samples': X_train,\n",
    "    'labels': y_train\n",
    "}\n",
    "\n",
    "## Size adjustment\n",
    "MAX_SIZE = len(data_set['samples'])\n",
    "desired_size = 100000\n",
    "size = min(desired_size, MAX_SIZE)\n",
    "\n",
    "data_set['samples'] = data_set['samples'][:size]\n",
    "data_set['labels'] = data_set['labels'][:size]\n",
    "print(\"ok\")"
   ]
  },
  {
   "cell_type": "code",
   "execution_count": 3,
   "metadata": {},
   "outputs": [
    {
     "name": "stdout",
     "output_type": "stream",
     "text": [
      "Accuracy is 0.49235817881402605\n"
     ]
    }
   ],
   "source": [
    "## SVM without privatization\n",
    "clf = svm.SVC(gamma='scale')\n",
    "clf.fit(data_set['samples'], data_set['labels'])\n",
    "y_pred = clf.predict(X_test)\n",
    "print(\"Accuracy is\", accuracy_score(y_test,y_pred))"
   ]
  },
  {
   "cell_type": "code",
   "execution_count": 4,
   "metadata": {},
   "outputs": [
    {
     "name": "stdout",
     "output_type": "stream",
     "text": [
      "Accuracy for epsilon =  1.0  is 0.48579493299063703\n",
      "Accuracy for epsilon =  1.5  is 0.46734440976684416\n",
      "Accuracy for epsilon =  2.0  is 0.45729874242702406\n",
      "Accuracy for epsilon =  2.5  is 0.3667041490728842\n",
      "Accuracy for epsilon =  3.0  is 0.47041375986781714\n"
     ]
    }
   ],
   "source": [
    "## Privatization: Laplace privatizer\n",
    "from privatizers import laplacePrivatizer\n",
    "\n",
    "ad = adapter.GeneralAdapter(7, 1)\n",
    "\n",
    "dataInput = ad.fromRaw(data_set['samples'])\n",
    "dataTarget = ad.fromRaw(data_set['labels'])\n",
    "\n",
    "privatizer = laplacePrivatizer.LaplacePrivatizer(1.0)\n",
    "\n",
    "inputSensitivity = privatizer.getSensitivityList(dataInput)\n",
    "targetSensitivity = 6\n",
    "\n",
    "epsilon = [1.0, 1.5, 2.0, 2.5, 3.0]\n",
    "\n",
    "privatizer = laplacePrivatizer.LaplacePrivatizer(1.0)\n",
    "privateData = privatizer.privatize(dataInput, sensitivityList = inputSensitivity)\n",
    "for i in epsilon:\n",
    "    privatizer = laplacePrivatizer.LaplacePrivatizer(i)\n",
    "    privateData = privatizer.privatize(dataInput, sensitivityList = inputSensitivity)\n",
    "\n",
    "    privateTargetsFloat = privatizer.privatize(dataTarget, sensitivityList = targetSensitivity)\n",
    "    privateTargets = ad.toDiscreteValue(privateTargetsFloat)\n",
    "\n",
    "    clf = svm.SVC(gamma='scale')\n",
    "    clf.fit(privateData, privateTargets)\n",
    "\n",
    "    y_pred = clf.predict(X_test)\n",
    "    print(\"Accuracy for epsilon = \", i,\" is\", accuracy_score(y_test,y_pred))"
   ]
  },
  {
   "cell_type": "code",
   "execution_count": null,
   "metadata": {},
   "outputs": [],
   "source": []
  }
 ],
 "metadata": {
  "kernelspec": {
   "display_name": "Python 3",
   "language": "python",
   "name": "python3"
  },
  "language_info": {
   "codemirror_mode": {
    "name": "ipython",
    "version": 3
   },
   "file_extension": ".py",
   "mimetype": "text/x-python",
   "name": "python",
   "nbconvert_exporter": "python",
   "pygments_lexer": "ipython3",
   "version": "3.7.4"
  }
 },
 "nbformat": 4,
 "nbformat_minor": 2
}
