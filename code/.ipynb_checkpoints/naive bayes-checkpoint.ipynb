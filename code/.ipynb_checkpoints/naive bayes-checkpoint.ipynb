{
 "cells": [
  {
   "cell_type": "code",
   "execution_count": 1,
   "metadata": {},
   "outputs": [
    {
     "name": "stdout",
     "output_type": "stream",
     "text": [
      "ok\n"
     ]
    }
   ],
   "source": [
    "import sys\n",
    "sys.path.append('./privatizers')\n",
    "sys.path.append('./dataProviders')\n",
    "sys.path.append('./adapters')\n",
    "\n",
    "from sklearn.naive_bayes import GaussianNB\n",
    "from sklearn.datasets import fetch_covtype\n",
    "from adapters import generalAdapter as adapter\n",
    "from sklearn.metrics import accuracy_score\n",
    "from sklearn.model_selection import train_test_split\n",
    "\n",
    "dp = fetch_covtype()\n",
    "\n",
    "X = dp.data\n",
    "Y = dp.target\n",
    "\n",
    "X_train, X_test, y_train, y_test = train_test_split( X, Y, test_size = 0.3, random_state = 100)"
   ]
  },
  {
   "cell_type": "code",
   "execution_count": 11,
   "metadata": {},
   "outputs": [
    {
     "name": "stdout",
     "output_type": "stream",
     "text": [
      "ok\n"
     ]
    }
   ],
   "source": [
    "## Dataset\n",
    "data_set = {\n",
    "    'samples': X_train,\n",
    "    'labels': y_train\n",
    "}\n",
    "\n",
    "## Size adjustment\n",
    "MAX_SIZE = len(data_set['samples'])\n",
    "desired_size = 100\n",
    "size = min(desired_size, MAX_SIZE)\n",
    "\n",
    "data_set['samples'] = data_set['samples'][:size]\n",
    "data_set['labels'] = data_set['labels'][:size]"
   ]
  },
  {
   "cell_type": "code",
   "execution_count": 12,
   "metadata": {},
   "outputs": [
    {
     "name": "stdout",
     "output_type": "stream",
     "text": [
      "Accuracy is 0.43566986414540115\n"
     ]
    }
   ],
   "source": [
    "## SVM without privatization\n",
    "gnb = GaussianNB()\n",
    "gnb.fit(data_set['samples'], data_set['labels'])\n",
    "\n",
    "y_pred = gnb.predict(X_test)\n",
    "print(\"Accuracy is\", accuracy_score(y_test,y_pred))"
   ]
  },
  {
   "cell_type": "code",
   "execution_count": 13,
   "metadata": {},
   "outputs": [
    {
     "name": "stdout",
     "output_type": "stream",
     "text": [
      "Accuracy for epsilon =  1.0  is 0.48579493299063703\n",
      "Accuracy for epsilon =  1.5  is 0.48580067009362954\n",
      "Accuracy for epsilon =  2.0  is 0.580296493482651\n",
      "Accuracy for epsilon =  2.5  is 0.6175647145217551\n",
      "Accuracy for epsilon =  3.0  is 0.6200890398384432\n"
     ]
    }
   ],
   "source": [
    "## Privatization: Laplace privatizer\n",
    "from privatizers import laplacePrivatizer\n",
    "\n",
    "ad = adapter.GeneralAdapter(7, 1)\n",
    "\n",
    "dataInput = ad.fromRaw(data_set['samples'])\n",
    "dataTarget = ad.fromRaw(data_set['labels'])\n",
    "\n",
    "privatizer = laplacePrivatizer.LaplacePrivatizer(1.0)\n",
    "\n",
    "inputSensitivity = privatizer.getSensitivityList(dataInput)\n",
    "targetSensitivity = 7\n",
    "\n",
    "epsilon = [1.0, 1.5, 2.0, 2.5, 3.0]\n",
    "\n",
    "privatizer = laplacePrivatizer.LaplacePrivatizer(1.0)\n",
    "privateData = privatizer.privatize(dataInput, sensitivityList = inputSensitivity)\n",
    "for i in epsilon:\n",
    "    privatizer = laplacePrivatizer.LaplacePrivatizer(i)\n",
    "    privateData = privatizer.privatize(dataInput, sensitivityList = inputSensitivity)\n",
    "\n",
    "    privateTargetsFloat = privatizer.privatize(dataTarget, sensitivityList = targetSensitivity)\n",
    "    privateTargets = ad.toDiscreteValue(privateTargetsFloat)\n",
    "\n",
    "    gnb = GaussianNB()\n",
    "    gnb.fit(privateData, privateTargets)\n",
    "\n",
    "    y_pred = gnb.predict(X_test)\n",
    "    print(\"Accuracy for epsilon = \", i,\" is\", accuracy_score(y_test,y_pred))"
   ]
  },
  {
   "cell_type": "code",
   "execution_count": null,
   "metadata": {},
   "outputs": [],
   "source": []
  }
 ],
 "metadata": {
  "kernelspec": {
   "display_name": "Python 3",
   "language": "python",
   "name": "python3"
  },
  "language_info": {
   "codemirror_mode": {
    "name": "ipython",
    "version": 3
   },
   "file_extension": ".py",
   "mimetype": "text/x-python",
   "name": "python",
   "nbconvert_exporter": "python",
   "pygments_lexer": "ipython3",
   "version": "3.7.4"
  }
 },
 "nbformat": 4,
 "nbformat_minor": 2
}
