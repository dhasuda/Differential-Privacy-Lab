{
 "cells": [
  {
   "cell_type": "code",
   "execution_count": 1,
   "metadata": {
    "scrolled": true
   },
   "outputs": [],
   "source": [
    "import sys\n",
    "sys.path.append('./privatizers')\n",
    "sys.path.append('./dataProviders')\n",
    "sys.path.append('./adapters')\n",
    "\n",
    "from privatizers import laplacePrivatizer\n",
    "\n",
    "class Person:\n",
    "    def __init__(self, idNumber, height):\n",
    "        self.id = idNumber\n",
    "        self.height = height\n",
    "    \n",
    "\n",
    "def myFunc(p):\n",
    "  return p.height\n"
   ]
  },
  {
   "cell_type": "code",
   "execution_count": 2,
   "metadata": {},
   "outputs": [],
   "source": [
    "def run_single_test(epsilon = 1.0):\n",
    "    initialHeight = 140\n",
    "    allPeople = []\n",
    "    for i in range(100):\n",
    "        newPerson = Person(i, i+initialHeight)\n",
    "        allPeople.append(newPerson)\n",
    "\n",
    "    sensitivity = 100\n",
    "    privatizer = laplacePrivatizer.LaplacePrivatizer(epsilon)\n",
    "\n",
    "    privatizedPeople = []\n",
    "    for person in allPeople:\n",
    "        privatizedHeight = privatizer.privatizeSingleAnswer(person.height)\n",
    "        privatizedPerson = Person(person.id, privatizedHeight)\n",
    "        privatizedPeople.append(privatizedPerson)\n",
    "\n",
    "    privatizedPeople.sort(key=myFunc)\n",
    "\n",
    "    accuracy = 0\n",
    "    iterator = 0\n",
    "    for p in privatizedPeople:\n",
    "        accuracy += 1 if (p.id == iterator) else 0\n",
    "        iterator += 1\n",
    "\n",
    "    accuracy /= len(privatizedPeople)\n",
    "    return accuracy"
   ]
  },
  {
   "cell_type": "code",
   "execution_count": 5,
   "metadata": {},
   "outputs": [
    {
     "name": "stdout",
     "output_type": "stream",
     "text": [
      "0.38\n"
     ]
    }
   ],
   "source": [
    "x = run_single_test()\n",
    "print(x)"
   ]
  },
  {
   "cell_type": "code",
   "execution_count": 3,
   "metadata": {},
   "outputs": [],
   "source": [
    "import math\n",
    "\n",
    "def epsilonFromD(d):\n",
    "    return math.log((1+d)/(1-d))"
   ]
  },
  {
   "cell_type": "code",
   "execution_count": 4,
   "metadata": {},
   "outputs": [],
   "source": [
    "def getAverageResult(d):\n",
    "#     d = 0.5\n",
    "    epsilon = epsilonFromD(d)\n",
    "\n",
    "    testResults = []\n",
    "    for i in range(1000):\n",
    "        testResults.append(run_single_test(epsilon))\n",
    "\n",
    "    avg = sum(testResults) / len(testResults)\n",
    "#     print(avg)\n",
    "    return avg"
   ]
  },
  {
   "cell_type": "code",
   "execution_count": 13,
   "metadata": {},
   "outputs": [
    {
     "name": "stdout",
     "output_type": "stream",
     "text": [
      "starting\n"
     ]
    },
    {
     "name": "stderr",
     "output_type": "stream",
     "text": [
      "/usr/local/lib/python3.7/site-packages/ipykernel_launcher.py:4: RuntimeWarning: divide by zero encountered in double_scalars\n",
      "  after removing the cwd from sys.path.\n"
     ]
    },
    {
     "name": "stdout",
     "output_type": "stream",
     "text": [
      "end analysis\n",
      "done\n"
     ]
    }
   ],
   "source": [
    "import matplotlib.pyplot as plt\n",
    "import numpy as np\n",
    "import csv\n",
    "\n",
    "# Prepare the data\n",
    "x = np.linspace(0.01, 1.0, 100)\n",
    "data = []\n",
    "\n",
    "print(\"starting\")\n",
    "for v in x:\n",
    "\n",
    "    data.append([v, getAverageResult(v)])\n",
    "print(\"end analysis\")\n",
    "    \n",
    "with open('./dResults.csv', 'w') as f:\n",
    "    writer = csv.writer(f)\n",
    "    writer.writerows(data)\n",
    "\n",
    "print(\"done\")\n",
    "# # Plot the data\n",
    "# plt.plot(x, y, label='linear')\n",
    "\n",
    "# # Add a legend\n",
    "# plt.legend()\n",
    "\n",
    "# # Show the plot\n",
    "# plt.show()"
   ]
  },
  {
   "cell_type": "code",
   "execution_count": 2,
   "metadata": {},
   "outputs": [],
   "source": [
    "# import csv\n",
    "\n",
    "# data = [\n",
    "#     [1, 2],\n",
    "#     [2, 2],\n",
    "#     [3, 2],\n",
    "# ]\n",
    "\n",
    "# with open('./test.csv', 'w') as f:\n",
    "#     writer = csv.writer(f)\n",
    "#     writer.writerows(data)"
   ]
  },
  {
   "cell_type": "code",
   "execution_count": 5,
   "metadata": {},
   "outputs": [],
   "source": [
    "def get_privatized_heights(epsilon = 1.0):\n",
    "    initialHeight = 140\n",
    "    allPeople = []\n",
    "    for i in range(100):\n",
    "        newPerson = Person(i, i+initialHeight)\n",
    "        allPeople.append(newPerson)\n",
    "\n",
    "    sensitivity = 100\n",
    "    privatizer = laplacePrivatizer.LaplacePrivatizer(epsilon)\n",
    "\n",
    "    privatizedPeople = []\n",
    "    for person in allPeople:\n",
    "        privatizedHeight = privatizer.privatizeSingleAnswer(person.height)\n",
    "        privatizedPerson = Person(person.id, privatizedHeight)\n",
    "        privatizedPeople.append(privatizedPerson)\n",
    "    return privatizedPeople"
   ]
  },
  {
   "cell_type": "code",
   "execution_count": 11,
   "metadata": {},
   "outputs": [
    {
     "name": "stdout",
     "output_type": "stream",
     "text": [
      "starting\n"
     ]
    },
    {
     "ename": "NameError",
     "evalue": "name 'x' is not defined",
     "output_type": "error",
     "traceback": [
      "\u001b[0;31m---------------------------------------------------------------------------\u001b[0m",
      "\u001b[0;31mNameError\u001b[0m                                 Traceback (most recent call last)",
      "\u001b[0;32m<ipython-input-11-c1786a0d9c22>\u001b[0m in \u001b[0;36m<module>\u001b[0;34m\u001b[0m\n\u001b[1;32m      7\u001b[0m \u001b[0mdata\u001b[0m \u001b[0;34m=\u001b[0m \u001b[0;34m[\u001b[0m\u001b[0;34m]\u001b[0m\u001b[0;34m\u001b[0m\u001b[0;34m\u001b[0m\u001b[0m\n\u001b[1;32m      8\u001b[0m \u001b[0mprint\u001b[0m\u001b[0;34m(\u001b[0m\u001b[0;34m\"starting\"\u001b[0m\u001b[0;34m)\u001b[0m\u001b[0;34m\u001b[0m\u001b[0;34m\u001b[0m\u001b[0m\n\u001b[0;32m----> 9\u001b[0;31m \u001b[0;32mfor\u001b[0m \u001b[0mperson\u001b[0m \u001b[0;32min\u001b[0m \u001b[0mx\u001b[0m\u001b[0;34m:\u001b[0m\u001b[0;34m\u001b[0m\u001b[0;34m\u001b[0m\u001b[0m\n\u001b[0m\u001b[1;32m     10\u001b[0m     \u001b[0mdata\u001b[0m\u001b[0;34m.\u001b[0m\u001b[0mappend\u001b[0m\u001b[0;34m(\u001b[0m\u001b[0;34m[\u001b[0m\u001b[0mperson\u001b[0m\u001b[0;34m.\u001b[0m\u001b[0mid\u001b[0m\u001b[0;34m,\u001b[0m \u001b[0mperson\u001b[0m\u001b[0;34m.\u001b[0m\u001b[0mheight\u001b[0m\u001b[0;34m]\u001b[0m\u001b[0;34m)\u001b[0m\u001b[0;34m\u001b[0m\u001b[0;34m\u001b[0m\u001b[0m\n\u001b[1;32m     11\u001b[0m \u001b[0;34m\u001b[0m\u001b[0m\n",
      "\u001b[0;31mNameError\u001b[0m: name 'x' is not defined"
     ]
    }
   ],
   "source": [
    "import csv\n",
    "\n",
    "d = 0.5\n",
    "epsilon = epsilonFromD(d)\n",
    "privitized = get_privatized_heights(epsilon)\n",
    "\n",
    "data = []\n",
    "print(\"starting\")\n",
    "for person in privitized:\n",
    "    data.append([person.id, person.height])\n",
    "\n",
    "with open('./heightsSample.csv', 'w') as f:\n",
    "    writer = csv.writer(f)\n",
    "    writer.writerows(data)"
   ]
  },
  {
   "cell_type": "code",
   "execution_count": null,
   "metadata": {},
   "outputs": [],
   "source": []
  }
 ],
 "metadata": {
  "kernelspec": {
   "display_name": "Python 3",
   "language": "python",
   "name": "python3"
  },
  "language_info": {
   "codemirror_mode": {
    "name": "ipython",
    "version": 3
   },
   "file_extension": ".py",
   "mimetype": "text/x-python",
   "name": "python",
   "nbconvert_exporter": "python",
   "pygments_lexer": "ipython3",
   "version": "3.7.4"
  }
 },
 "nbformat": 4,
 "nbformat_minor": 2
}
