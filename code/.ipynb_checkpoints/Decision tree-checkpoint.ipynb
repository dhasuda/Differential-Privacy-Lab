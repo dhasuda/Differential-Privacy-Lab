{
 "cells": [
  {
   "cell_type": "code",
   "execution_count": 1,
   "metadata": {},
   "outputs": [],
   "source": [
    "# Let's start with a simple example of the scikit lib use\n",
    "\n",
    "import sys\n",
    "sys.path.append('./privatizers')\n",
    "sys.path.append('./dataProviders')\n",
    "sys.path.append('./adapters')\n",
    "\n",
    "from sklearn import tree\n",
    "from sklearn.datasets import fetch_covtype\n",
    "from adapters import generalAdapter as adapter\n",
    "from sklearn.metrics import accuracy_score\n",
    "from sklearn.model_selection import train_test_split\n",
    "import numpy as np\n",
    "\n",
    "dp = fetch_covtype()\n",
    "X = dp.data\n",
    "Y = dp.target\n",
    "\n",
    "X_train, X_test, y_train, y_test = train_test_split( X, Y, test_size = 0.3, random_state = 100)\n"
   ]
  },
  {
   "cell_type": "code",
   "execution_count": 2,
   "metadata": {},
   "outputs": [],
   "source": [
    "## Dataset\n",
    "data_set = {\n",
    "    'samples': X_train,\n",
    "    'labels': y_train\n",
    "}\n",
    "\n",
    "## Size adjustment\n",
    "MAX_SIZE = len(data_set['samples'])\n",
    "desired_size = 10000\n",
    "size = min(desired_size, MAX_SIZE)\n",
    "\n",
    "data_set['samples'] = data_set['samples'][:size]\n",
    "data_set['labels'] = data_set['labels'][:size]"
   ]
  },
  {
   "cell_type": "code",
   "execution_count": 3,
   "metadata": {},
   "outputs": [
    {
     "name": "stdout",
     "output_type": "stream",
     "text": [
      "Accuracy is 72.42231962548192\n"
     ]
    }
   ],
   "source": [
    "## Decision tree without privatization\n",
    "clf = tree.DecisionTreeClassifier()\n",
    "# clf = clf.fit(data_set['samples'], data_set['labels'])\n",
    "\n",
    "# tree.plot_tree(clf.fit(data_set['samples'], data_set['labels']))\n",
    "clf.fit(data_set['samples'], data_set['labels'])\n",
    "# tree.export_graphviz(clf, out_file='tree.dot')\n",
    "\n",
    "y_pred = clf.predict(X_test)\n",
    "\n",
    "print(\"Accuracy is\", accuracy_score(y_test,y_pred)*100)"
   ]
  },
  {
   "cell_type": "code",
   "execution_count": 12,
   "metadata": {},
   "outputs": [
    {
     "name": "stdout",
     "output_type": "stream",
     "text": [
      "Accuracy for epsilon =  0.5  is 47.167018542316875\n",
      "Accuracy for epsilon =  0.01  is 36.58148981090509\n",
      "Accuracy for epsilon =  0.001  is 48.5794932990637\n"
     ]
    }
   ],
   "source": [
    "## Privatization: Laplace privatizer\n",
    "from privatizers import laplacePrivatizer\n",
    "ad = adapter.GeneralAdapter(7, 1)\n",
    "\n",
    "epsilon = [100.0, 90.0, 80.0, 70.0, 60.0, 50.0, 60.0, 50.0, 40.0, 30.0, 20.0, 10.0, 5.0, 4.0, 3.0, 2.0, 1.0, 0.5, 0.01, 0.001]\n",
    "for i in epsilon:\n",
    "    privatizer = laplacePrivatizer.LaplacePrivatizer(i)\n",
    "    privateData = privatizer.privatize(ad.fromRaw(data_set['samples']))\n",
    "\n",
    "    privateTargetsFloat = privatizer.privatize(ad.fromRaw(data_set['labels']))\n",
    "    privateTargets = ad.toDiscreteValue(privateTargetsFloat)\n",
    "\n",
    "    clf = tree.DecisionTreeClassifier()\n",
    "    clf.fit(privateData, privateTargets)\n",
    "    y_pred = clf.predict(X_test)\n",
    "\n",
    "    # tree.export_graphviz(clf, out_file='tree_laplace s=0,03 size=100.dot') \n",
    "\n",
    "    print(\"Accuracy for epsilon = \", i,\" is\", accuracy_score(y_test,y_pred)*100)"
   ]
  },
  {
   "cell_type": "code",
   "execution_count": null,
   "metadata": {},
   "outputs": [],
   "source": []
  }
 ],
 "metadata": {
  "kernelspec": {
   "display_name": "Python 3",
   "language": "python",
   "name": "python3"
  },
  "language_info": {
   "codemirror_mode": {
    "name": "ipython",
    "version": 3
   },
   "file_extension": ".py",
   "mimetype": "text/x-python",
   "name": "python",
   "nbconvert_exporter": "python",
   "pygments_lexer": "ipython3",
   "version": "3.7.4"
  }
 },
 "nbformat": 4,
 "nbformat_minor": 2
}
