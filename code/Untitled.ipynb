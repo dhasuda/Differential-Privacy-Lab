{
 "cells": [
  {
   "cell_type": "code",
   "execution_count": 62,
   "metadata": {
    "scrolled": true
   },
   "outputs": [],
   "source": [
    "import sys\n",
    "sys.path.append('./privatizers')\n",
    "sys.path.append('./dataProviders')\n",
    "sys.path.append('./adapters')\n",
    "\n",
    "from privatizers import laplacePrivatizer\n",
    "\n",
    "class Person:\n",
    "    def __init__(self, idNumber, height):\n",
    "        self.id = idNumber\n",
    "        self.height = height\n",
    "    \n",
    "\n",
    "def myFunc(p):\n",
    "  return p.height\n"
   ]
  },
  {
   "cell_type": "code",
   "execution_count": 63,
   "metadata": {},
   "outputs": [],
   "source": [
    "def run_single_test(epsilon = 1.0):\n",
    "    initialHeight = 140\n",
    "    allPeople = []\n",
    "    for i in range(100):\n",
    "        newPerson = Person(i, i+initialHeight)\n",
    "        allPeople.append(newPerson)\n",
    "\n",
    "    sensitivity = 100\n",
    "    privatizer = laplacePrivatizer.LaplacePrivatizer(epsilon)\n",
    "\n",
    "    privatizedPeople = []\n",
    "    for person in allPeople:\n",
    "        privatizedHeight = privatizer.privatizeSingleAnswer(person.height)\n",
    "        privatizedPerson = Person(person.id, privatizedHeight)\n",
    "        privatizedPeople.append(privatizedPerson)\n",
    "\n",
    "    privatizedPeople.sort(key=myFunc)\n",
    "\n",
    "    accuracy = 0\n",
    "    iterator = 0\n",
    "    for p in privatizedPeople:\n",
    "        accuracy += 1 if (p.id == iterator) else 0\n",
    "        iterator += 1\n",
    "\n",
    "    accuracy /= len(privatizedPeople)\n",
    "    return accuracy"
   ]
  },
  {
   "cell_type": "code",
   "execution_count": 64,
   "metadata": {},
   "outputs": [
    {
     "name": "stdout",
     "output_type": "stream",
     "text": [
      "0.43\n"
     ]
    }
   ],
   "source": [
    "x = run_single_test()\n",
    "print(x)"
   ]
  },
  {
   "cell_type": "code",
   "execution_count": 65,
   "metadata": {},
   "outputs": [],
   "source": [
    "import math\n",
    "\n",
    "def epsilonFromD(d):\n",
    "    return math.log((1+d)/(1-d))"
   ]
  },
  {
   "cell_type": "code",
   "execution_count": 85,
   "metadata": {},
   "outputs": [],
   "source": [
    "def getAverageResult(d):\n",
    "#     d = 0.5\n",
    "    epsilon = epsilonFromD(d)\n",
    "\n",
    "    testResults = []\n",
    "    for i in range(1000):\n",
    "        testResults.append(run_single_test(epsilon))\n",
    "\n",
    "    avg = sum(testResults) / len(testResults)\n",
    "#     print(avg)\n",
    "    return avg"
   ]
  },
  {
   "cell_type": "code",
   "execution_count": 89,
   "metadata": {},
   "outputs": [
    {
     "name": "stderr",
     "output_type": "stream",
     "text": [
      "/usr/local/lib/python3.7/site-packages/ipykernel_launcher.py:4: RuntimeWarning: divide by zero encountered in double_scalars\n",
      "  after removing the cwd from sys.path.\n"
     ]
    },
    {
     "data": {
      "image/png": "[encoded data removed]",
      "text/plain": [
       "<Figure size 432x288 with 1 Axes>"
      ]
     },
     "metadata": {
      "needs_background": "light"
     },
     "output_type": "display_data"
    }
   ],
   "source": [
    "import matplotlib.pyplot as plt\n",
    "import numpy as np\n",
    "\n",
    "# Prepare the data\n",
    "x = np.linspace(0.01, 1.0, 100)\n",
    "y = []\n",
    "\n",
    "for v in x:\n",
    "    y.append(getAverageResult(v))\n",
    "\n",
    "# Plot the data\n",
    "plt.plot(x, y, label='linear')\n",
    "\n",
    "# Add a legend\n",
    "plt.legend()\n",
    "\n",
    "# Show the plot\n",
    "plt.show()"
   ]
  },
  {
   "cell_type": "code",
   "execution_count": null,
   "metadata": {},
   "outputs": [],
   "source": []
  }
 ],
 "metadata": {
  "kernelspec": {
   "display_name": "Python 3",
   "language": "python",
   "name": "python3"
  },
  "language_info": {
   "codemirror_mode": {
    "name": "ipython",
    "version": 3
   },
   "file_extension": ".py",
   "mimetype": "text/x-python",
   "name": "python",
   "nbconvert_exporter": "python",
   "pygments_lexer": "ipython3",
   "version": "3.7.4"
  }
 },
 "nbformat": 4,
 "nbformat_minor": 2
}
